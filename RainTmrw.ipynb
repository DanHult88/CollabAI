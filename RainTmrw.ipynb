{
  "nbformat": 4,
  "nbformat_minor": 0,
  "metadata": {
    "colab": {
      "provenance": []
    },
    "kernelspec": {
      "name": "python3",
      "display_name": "Python 3"
    },
    "language_info": {
      "name": "python"
    }
  },
  "cells": [
    {
      "cell_type": "code",
      "source": [
        "from google.colab import files\n",
        "uploaded = files.upload()\n"
      ],
      "metadata": {
        "colab": {
          "base_uri": "https://localhost:8080/",
          "height": 73
        },
        "id": "yvBXDVi8IZhT",
        "outputId": "6b77c494-ac2a-45f4-d0f0-a571370d3bc1"
      },
      "execution_count": 5,
      "outputs": [
        {
          "output_type": "display_data",
          "data": {
            "text/plain": [
              "<IPython.core.display.HTML object>"
            ],
            "text/html": [
              "\n",
              "     <input type=\"file\" id=\"files-6167b95e-c1ac-42ab-92e7-57c9203c0eca\" name=\"files[]\" multiple disabled\n",
              "        style=\"border:none\" />\n",
              "     <output id=\"result-6167b95e-c1ac-42ab-92e7-57c9203c0eca\">\n",
              "      Upload widget is only available when the cell has been executed in the\n",
              "      current browser session. Please rerun this cell to enable.\n",
              "      </output>\n",
              "      <script>// Copyright 2017 Google LLC\n",
              "//\n",
              "// Licensed under the Apache License, Version 2.0 (the \"License\");\n",
              "// you may not use this file except in compliance with the License.\n",
              "// You may obtain a copy of the License at\n",
              "//\n",
              "//      http://www.apache.org/licenses/LICENSE-2.0\n",
              "//\n",
              "// Unless required by applicable law or agreed to in writing, software\n",
              "// distributed under the License is distributed on an \"AS IS\" BASIS,\n",
              "// WITHOUT WARRANTIES OR CONDITIONS OF ANY KIND, either express or implied.\n",
              "// See the License for the specific language governing permissions and\n",
              "// limitations under the License.\n",
              "\n",
              "/**\n",
              " * @fileoverview Helpers for google.colab Python module.\n",
              " */\n",
              "(function(scope) {\n",
              "function span(text, styleAttributes = {}) {\n",
              "  const element = document.createElement('span');\n",
              "  element.textContent = text;\n",
              "  for (const key of Object.keys(styleAttributes)) {\n",
              "    element.style[key] = styleAttributes[key];\n",
              "  }\n",
              "  return element;\n",
              "}\n",
              "\n",
              "// Max number of bytes which will be uploaded at a time.\n",
              "const MAX_PAYLOAD_SIZE = 100 * 1024;\n",
              "\n",
              "function _uploadFiles(inputId, outputId) {\n",
              "  const steps = uploadFilesStep(inputId, outputId);\n",
              "  const outputElement = document.getElementById(outputId);\n",
              "  // Cache steps on the outputElement to make it available for the next call\n",
              "  // to uploadFilesContinue from Python.\n",
              "  outputElement.steps = steps;\n",
              "\n",
              "  return _uploadFilesContinue(outputId);\n",
              "}\n",
              "\n",
              "// This is roughly an async generator (not supported in the browser yet),\n",
              "// where there are multiple asynchronous steps and the Python side is going\n",
              "// to poll for completion of each step.\n",
              "// This uses a Promise to block the python side on completion of each step,\n",
              "// then passes the result of the previous step as the input to the next step.\n",
              "function _uploadFilesContinue(outputId) {\n",
              "  const outputElement = document.getElementById(outputId);\n",
              "  const steps = outputElement.steps;\n",
              "\n",
              "  const next = steps.next(outputElement.lastPromiseValue);\n",
              "  return Promise.resolve(next.value.promise).then((value) => {\n",
              "    // Cache the last promise value to make it available to the next\n",
              "    // step of the generator.\n",
              "    outputElement.lastPromiseValue = value;\n",
              "    return next.value.response;\n",
              "  });\n",
              "}\n",
              "\n",
              "/**\n",
              " * Generator function which is called between each async step of the upload\n",
              " * process.\n",
              " * @param {string} inputId Element ID of the input file picker element.\n",
              " * @param {string} outputId Element ID of the output display.\n",
              " * @return {!Iterable<!Object>} Iterable of next steps.\n",
              " */\n",
              "function* uploadFilesStep(inputId, outputId) {\n",
              "  const inputElement = document.getElementById(inputId);\n",
              "  inputElement.disabled = false;\n",
              "\n",
              "  const outputElement = document.getElementById(outputId);\n",
              "  outputElement.innerHTML = '';\n",
              "\n",
              "  const pickedPromise = new Promise((resolve) => {\n",
              "    inputElement.addEventListener('change', (e) => {\n",
              "      resolve(e.target.files);\n",
              "    });\n",
              "  });\n",
              "\n",
              "  const cancel = document.createElement('button');\n",
              "  inputElement.parentElement.appendChild(cancel);\n",
              "  cancel.textContent = 'Cancel upload';\n",
              "  const cancelPromise = new Promise((resolve) => {\n",
              "    cancel.onclick = () => {\n",
              "      resolve(null);\n",
              "    };\n",
              "  });\n",
              "\n",
              "  // Wait for the user to pick the files.\n",
              "  const files = yield {\n",
              "    promise: Promise.race([pickedPromise, cancelPromise]),\n",
              "    response: {\n",
              "      action: 'starting',\n",
              "    }\n",
              "  };\n",
              "\n",
              "  cancel.remove();\n",
              "\n",
              "  // Disable the input element since further picks are not allowed.\n",
              "  inputElement.disabled = true;\n",
              "\n",
              "  if (!files) {\n",
              "    return {\n",
              "      response: {\n",
              "        action: 'complete',\n",
              "      }\n",
              "    };\n",
              "  }\n",
              "\n",
              "  for (const file of files) {\n",
              "    const li = document.createElement('li');\n",
              "    li.append(span(file.name, {fontWeight: 'bold'}));\n",
              "    li.append(span(\n",
              "        `(${file.type || 'n/a'}) - ${file.size} bytes, ` +\n",
              "        `last modified: ${\n",
              "            file.lastModifiedDate ? file.lastModifiedDate.toLocaleDateString() :\n",
              "                                    'n/a'} - `));\n",
              "    const percent = span('0% done');\n",
              "    li.appendChild(percent);\n",
              "\n",
              "    outputElement.appendChild(li);\n",
              "\n",
              "    const fileDataPromise = new Promise((resolve) => {\n",
              "      const reader = new FileReader();\n",
              "      reader.onload = (e) => {\n",
              "        resolve(e.target.result);\n",
              "      };\n",
              "      reader.readAsArrayBuffer(file);\n",
              "    });\n",
              "    // Wait for the data to be ready.\n",
              "    let fileData = yield {\n",
              "      promise: fileDataPromise,\n",
              "      response: {\n",
              "        action: 'continue',\n",
              "      }\n",
              "    };\n",
              "\n",
              "    // Use a chunked sending to avoid message size limits. See b/62115660.\n",
              "    let position = 0;\n",
              "    do {\n",
              "      const length = Math.min(fileData.byteLength - position, MAX_PAYLOAD_SIZE);\n",
              "      const chunk = new Uint8Array(fileData, position, length);\n",
              "      position += length;\n",
              "\n",
              "      const base64 = btoa(String.fromCharCode.apply(null, chunk));\n",
              "      yield {\n",
              "        response: {\n",
              "          action: 'append',\n",
              "          file: file.name,\n",
              "          data: base64,\n",
              "        },\n",
              "      };\n",
              "\n",
              "      let percentDone = fileData.byteLength === 0 ?\n",
              "          100 :\n",
              "          Math.round((position / fileData.byteLength) * 100);\n",
              "      percent.textContent = `${percentDone}% done`;\n",
              "\n",
              "    } while (position < fileData.byteLength);\n",
              "  }\n",
              "\n",
              "  // All done.\n",
              "  yield {\n",
              "    response: {\n",
              "      action: 'complete',\n",
              "    }\n",
              "  };\n",
              "}\n",
              "\n",
              "scope.google = scope.google || {};\n",
              "scope.google.colab = scope.google.colab || {};\n",
              "scope.google.colab._files = {\n",
              "  _uploadFiles,\n",
              "  _uploadFilesContinue,\n",
              "};\n",
              "})(self);\n",
              "</script> "
            ]
          },
          "metadata": {}
        },
        {
          "output_type": "stream",
          "name": "stdout",
          "text": [
            "Saving weatherAUS.csv to weatherAUS (1).csv\n"
          ]
        }
      ]
    },
    {
      "cell_type": "code",
      "execution_count": null,
      "metadata": {
        "collapsed": true,
        "id": "KTJcYRNvHs_m"
      },
      "outputs": [],
      "source": [
        "# --- Kodblock 1 Import:\n",
        "import pandas as pd\n",
        "\n",
        "# Läs in CSV-filen\n",
        "df = pd.read_csv(\"weatherAUS.csv\")\n",
        "\n",
        "# Visa de första 5 raderna\n",
        "df.head()\n"
      ]
    },
    {
      "cell_type": "code",
      "source": [
        "# --- Kodblock 2: Ta bort kolumner med mycket saknade värden\n",
        "df.drop(['Evaporation', 'Sunshine', 'Cloud9am', 'Cloud3pm'], axis=1, inplace=True)\n",
        "\n",
        "# Ta bort rader som saknar värden i viktiga kolumner\n",
        "df.dropna(subset=['RainToday', 'RainTomorrow', 'Humidity3pm'], inplace=True)\n",
        "\n",
        "# Fyll andra saknade värden med median\n",
        "df.fillna(df.median(numeric_only=True), inplace=True)\n",
        "\n",
        "# Konvertera 'RainToday' och 'RainTomorrow' till binära (0/1)\n",
        "df['RainToday'] = df['RainToday'].map({'No': 0, 'Yes': 1})\n",
        "df['RainTomorrow'] = df['RainTomorrow'].map({'No': 0, 'Yes': 1})\n",
        "\n",
        "# Visa förändrade data\n",
        "df.head()\n"
      ],
      "metadata": {
        "id": "h3AKEQXSHy08"
      },
      "execution_count": null,
      "outputs": []
    },
    {
      "cell_type": "code",
      "source": [
        "# --- Kodblock 3: Kolumner vi vill använda som input till modellen\n",
        "features = ['MinTemp', 'MaxTemp', 'Rainfall', 'Humidity3pm', 'WindSpeed9am', 'WindSpeed3pm', 'RainToday']\n",
        "\n",
        "# Målvariabeln\n",
        "target = 'RainTomorrow'\n",
        "\n",
        "# Skapa X (inputs) och y (output)\n",
        "X = df[features]\n",
        "y = df[target]\n"
      ],
      "metadata": {
        "id": "eUWGxT4nHzB9"
      },
      "execution_count": 9,
      "outputs": []
    },
    {
      "cell_type": "code",
      "source": [
        "# --- Kodblock 3.1: Feature Engineering ---\n",
        "\n",
        "# Se till att 'Date' är i datetime-format\n",
        "df['Date'] = pd.to_datetime(df['Date'])\n",
        "\n",
        "# Skapa nya kolumner som kan hjälpa modellen\n",
        "df['TempDiff']  = df['MaxTemp'] - df['MinTemp']       # Temperatur-differens\n",
        "df['Weekday']   = df['Date'].dt.weekday               # Veckodag (0=måndag,... 6=söndag)\n",
        "df['Month']     = df['Date'].dt.month                 # Månad (1–12)\n",
        "df['IsWeekend'] = df['Weekday'].apply(lambda x: 1 if x >= 5 else 0)  # Helgflagga\n",
        "\n",
        "# Kontrollera att de nya kolumnerna lagts till\n",
        "print(df[['TempDiff', 'Weekday', 'Month', 'IsWeekend']].head())\n"
      ],
      "metadata": {
        "colab": {
          "base_uri": "https://localhost:8080/"
        },
        "collapsed": true,
        "id": "r-n8E6nyLnSv",
        "outputId": "5f4c72a4-bc84-4fdf-e22e-f27c4893f44e"
      },
      "execution_count": 40,
      "outputs": [
        {
          "output_type": "stream",
          "name": "stdout",
          "text": [
            "   TempDiff  Weekday  Month  IsWeekend\n",
            "0       9.5        0     12          0\n",
            "1      17.7        1     12          0\n",
            "2      12.8        2     12          0\n",
            "3      18.8        3     12          0\n",
            "4      14.8        4     12          0\n"
          ]
        }
      ]
    },
    {
      "cell_type": "code",
      "source": [
        "# --- Kodblock 4:\n",
        "\n",
        "from sklearn.model_selection import train_test_split\n",
        "import pandas as pd\n",
        "\n",
        "# 1. Lista av features (endast numeriska kolumner)\n",
        "features = [\n",
        "    'MinTemp', 'MaxTemp', 'Rainfall',\n",
        "    'Humidity3pm', 'WindSpeed9am', 'WindSpeed3pm',\n",
        "    'RainToday',\n",
        "    'TempDiff', 'Weekday', 'Month', 'IsWeekend'\n",
        "]\n",
        "\n",
        "# 2. X = alla valda features, y = target\n",
        "X = df[features]\n",
        "y = df['RainTomorrow']\n",
        "\n",
        "# 3. Dela upp i träning/test, och plocka ut Location som egen array\n",
        "X_train, X_test, y_train, y_test, loc_train, loc_test = train_test_split(\n",
        "    X, y, df['Location'],\n",
        "    test_size=0.2,\n",
        "    random_state=42\n",
        ")\n",
        "\n",
        "# 4. Omvandla X_test till DataFrame för att behålla kolumnnamn\n",
        "X_test_df = pd.DataFrame(X_test, columns=X.columns)\n",
        "\n",
        "# 5. Kontrollera att allt ser rätt ut\n",
        "print(\"Features i X:\", X.columns.tolist())\n",
        "print(\"Antal träningsrader:\", len(X_train), \"Antal testrader:\", len(X_test))\n",
        "print(\"Exempel på platser i loc_test:\", loc_test.unique()[:5])\n",
        "\n"
      ],
      "metadata": {
        "colab": {
          "base_uri": "https://localhost:8080/"
        },
        "id": "eOtoFkeIHzKd",
        "outputId": "bb3f1a0b-5215-4fb9-df51-2945a79f1193"
      },
      "execution_count": 46,
      "outputs": [
        {
          "output_type": "stream",
          "name": "stdout",
          "text": [
            "Features i X: ['MinTemp', 'MaxTemp', 'Rainfall', 'Humidity3pm', 'WindSpeed9am', 'WindSpeed3pm', 'RainToday', 'TempDiff', 'Weekday', 'Month', 'IsWeekend']\n",
            "Antal träningsrader: 109828 Antal testrader: 27458\n",
            "Exempel på platser i loc_test: ['Katherine' 'Watsonia' 'Portland' 'NorfolkIsland' 'Ballarat']\n"
          ]
        }
      ]
    },
    {
      "cell_type": "code",
      "source": [
        "# --- Kodblock 4.1: Jämför baseline vs engineered features För VG ---\n",
        "from sklearn.model_selection import train_test_split\n",
        "from sklearn.ensemble import RandomForestClassifier\n",
        "from sklearn.metrics import accuracy_score\n",
        "\n",
        "# Baseline: bara ursprungliga features\n",
        "features_base = ['MinTemp','MaxTemp','Rainfall','Humidity9am','Humidity3pm','WindSpeed9am','WindSpeed3pm','RainToday']\n",
        "X_base = df[features_base]\n",
        "y = df['RainTomorrow']\n",
        "\n",
        "Xb_train, Xb_test, yb_train, yb_test = train_test_split(\n",
        "    X_base, y, test_size=0.2, random_state=42)\n",
        "\n",
        "rf_base = RandomForestClassifier(n_estimators=100, random_state=42)\n",
        "rf_base.fit(Xb_train, yb_train)\n",
        "yb_pred = rf_base.predict(Xb_test)\n",
        "acc_base = accuracy_score(yb_test, yb_pred)\n",
        "\n",
        "# Engineered: inkludera nya features\n",
        "features_eng = features_base + ['TempDiff','Weekday','Month','IsWeekend']\n",
        "X_eng = df[features_eng]\n",
        "Xe_train, Xe_test, ye_train, ye_test = train_test_split(\n",
        "    X_eng, y, test_size=0.2, random_state=42)\n",
        "\n",
        "rf_eng = RandomForestClassifier(n_estimators=100, random_state=42)\n",
        "rf_eng.fit(Xe_train, ye_train)\n",
        "ye_pred = rf_eng.predict(Xe_test)\n",
        "acc_eng = accuracy_score(ye_test, ye_pred)\n",
        "\n",
        "print(f\"Baseline RF accuracy:  {acc_base:.3f}\")\n",
        "print(f\"Engineered RF accuracy: {acc_eng:.3f}\")\n"
      ],
      "metadata": {
        "id": "b3GhwtrIWpFR"
      },
      "execution_count": null,
      "outputs": []
    },
    {
      "cell_type": "code",
      "source": [
        "# --- Kodblock 5:\n",
        "from sklearn.model_selection import RandomizedSearchCV\n",
        "from sklearn.ensemble import RandomForestClassifier\n",
        "import numpy as np\n",
        "\n",
        "param_dist = {\n",
        "    'n_estimators': [50, 100, 150],\n",
        "    'max_depth': [10, 20, None],\n",
        "    'max_features': ['sqrt', 'log2'],\n",
        "    'min_samples_split': [2, 5, 10]\n",
        "}\n",
        "\n",
        "rf = RandomForestClassifier(random_state=42)\n",
        "\n",
        "random_search = RandomizedSearchCV(\n",
        "    rf, param_distributions=param_dist, n_iter=10, cv=3,\n",
        "    scoring='accuracy', n_jobs=-1, random_state=42\n",
        ")\n",
        "\n",
        "random_search.fit(X_train, y_train)\n",
        "\n",
        "print(\"Bästa parametrar:\", random_search.best_params_)\n",
        "print(\"Bästa accuracy på träning (CV):\", random_search.best_score_)\n",
        "\n",
        "# Använd bästa modellen framöver:\n",
        "model = random_search.best_estimator_\n"
      ],
      "metadata": {
        "colab": {
          "base_uri": "https://localhost:8080/"
        },
        "id": "SB979vhQHzaJ",
        "outputId": "470d6c68-1de8-453d-a44d-63d2d644f29a"
      },
      "execution_count": 47,
      "outputs": [
        {
          "output_type": "stream",
          "name": "stdout",
          "text": [
            "Bästa parametrar: {'n_estimators': 150, 'min_samples_split': 10, 'max_features': 'log2', 'max_depth': 10}\n",
            "Bästa accuracy på träning (CV): 0.8397585401173523\n"
          ]
        }
      ]
    },
    {
      "cell_type": "code",
      "source": [
        "# --- Kodblock 6:\n",
        "from sklearn.metrics import accuracy_score, classification_report, confusion_matrix\n",
        "\n",
        "# Gör prediktioner på testdata\n",
        "y_pred = model.predict(X_test)\n",
        "\n",
        "# Beräkna accuracy\n",
        "accuracy = accuracy_score(y_test, y_pred)\n",
        "print(\"Accuracy:\", accuracy)\n",
        "\n",
        "# Visa klassificeringsrapport\n",
        "print(\"Klassificeringsrapport:\")\n",
        "print(classification_report(y_test, y_pred))\n",
        "\n",
        "# Visa förvirringsmatris\n",
        "print(\"Förvirringsmatris:\")\n",
        "print(confusion_matrix(y_test, y_pred))\n"
      ],
      "metadata": {
        "colab": {
          "base_uri": "https://localhost:8080/"
        },
        "id": "44AmZ1fqIFmH",
        "outputId": "d225e1be-23f9-4917-9595-f7c5ccdce9fc"
      },
      "execution_count": 48,
      "outputs": [
        {
          "output_type": "stream",
          "name": "stdout",
          "text": [
            "Accuracy: 0.8393182314808071\n",
            "Klassificeringsrapport:\n",
            "              precision    recall  f1-score   support\n",
            "\n",
            "           0       0.85      0.96      0.90     21385\n",
            "           1       0.75      0.41      0.53      6073\n",
            "\n",
            "    accuracy                           0.84     27458\n",
            "   macro avg       0.80      0.69      0.72     27458\n",
            "weighted avg       0.83      0.84      0.82     27458\n",
            "\n",
            "Förvirringsmatris:\n",
            "[[20546   839]\n",
            " [ 3573  2500]]\n"
          ]
        }
      ]
    },
    {
      "cell_type": "code",
      "source": [
        "# --- Kodblock 7: Alternativ modell – Gradient Boosting (engineered features) ---\n",
        "\n",
        "from sklearn.ensemble import GradientBoostingClassifier\n",
        "from sklearn.metrics import accuracy_score, classification_report, confusion_matrix\n",
        "import seaborn as sns\n",
        "import matplotlib.pyplot as plt\n",
        "\n",
        "# Träna Gradient Boosting på samma data (X_train innehåller alla dina features, inklusive TempDiff, Weekday, Month, IsWeekend)\n",
        "gb = GradientBoostingClassifier(random_state=42)\n",
        "gb.fit(X_train, y_train)\n",
        "\n",
        "# Gör prediktioner\n",
        "y_pred_gb = gb.predict(X_test)\n",
        "\n",
        "# Beräkna accuracy\n",
        "accuracy_gb = accuracy_score(y_test, y_pred_gb)\n",
        "print(\"Gradient Boosting accuracy (engineered):\", accuracy_gb)\n",
        "\n",
        "# Visa klassificeringsrapport\n",
        "print(\"\\nKlassificeringsrapport för GB:\")\n",
        "print(classification_report(y_test, y_pred_gb))\n",
        "\n",
        "\n"
      ],
      "metadata": {
        "colab": {
          "base_uri": "https://localhost:8080/"
        },
        "id": "oLKGtyF6RFyc",
        "outputId": "a03e835b-8b6e-49cc-d069-b74db447d1d6"
      },
      "execution_count": 54,
      "outputs": [
        {
          "output_type": "stream",
          "name": "stdout",
          "text": [
            "Gradient Boosting accuracy (engineered): 0.8382620729841941\n",
            "\n",
            "Klassificeringsrapport för GB:\n",
            "              precision    recall  f1-score   support\n",
            "\n",
            "           0       0.85      0.96      0.90     21385\n",
            "           1       0.74      0.42      0.53      6073\n",
            "\n",
            "    accuracy                           0.84     27458\n",
            "   macro avg       0.79      0.69      0.72     27458\n",
            "weighted avg       0.83      0.84      0.82     27458\n",
            "\n"
          ]
        }
      ]
    },
    {
      "cell_type": "markdown",
      "source": [
        "### Jämförelse och slutsats\n",
        "\n",
        "Den tränade modellen med feature engineering (både Random Forest och Gradient Boosting) presterade snarlikt i jämförelse med baseline-modellen med en accuracy nära 84%.\n"
      ],
      "metadata": {
        "id": "7rW64Q2MX7fN"
      }
    },
    {
      "cell_type": "code",
      "source": [
        "# --- Kodblock 8: Använd loc_test som platsnamn\n",
        "locations = loc_test.reset_index(drop=True)\n",
        "\n",
        "predictions_df = pd.DataFrame({\n",
        "    'Plats': locations,\n",
        "    'Kommer det regna?': y_pred\n",
        "})\n",
        "\n",
        "predictions_df['Kommer det regna?'] = predictions_df['Kommer det regna?'].map({0: 'Nej', 1: 'Ja'})\n",
        "\n",
        "print(\"Exempel på prognos för imorgon:\\n\")\n",
        "print(predictions_df.head(15))\n"
      ],
      "metadata": {
        "colab": {
          "base_uri": "https://localhost:8080/"
        },
        "id": "RtWiu2mXIFuT",
        "outputId": "1da41221-5155-4dfc-aa0c-c5ddfbda0f6a"
      },
      "execution_count": 55,
      "outputs": [
        {
          "output_type": "stream",
          "name": "stdout",
          "text": [
            "Exempel på prognos för imorgon:\n",
            "\n",
            "            Plats Kommer det regna?\n",
            "0       Katherine               Nej\n",
            "1        Watsonia               Nej\n",
            "2        Portland                Ja\n",
            "3   NorfolkIsland               Nej\n",
            "4        Ballarat               Nej\n",
            "5       GoldCoast               Nej\n",
            "6          Albany               Nej\n",
            "7      Townsville               Nej\n",
            "8        Ballarat               Nej\n",
            "9          Hobart               Nej\n",
            "10   MountGambier               Nej\n",
            "11       Adelaide               Nej\n",
            "12           Sale               Nej\n",
            "13         Cairns               Nej\n",
            "14       Watsonia               Nej\n"
          ]
        }
      ]
    },
    {
      "cell_type": "code",
      "source": [
        "# --- Kodblock 9: Feature Importance för Gradient Boosting ---\n",
        "import numpy as np\n",
        "import matplotlib.pyplot as plt\n",
        "\n",
        "# Kolla feature importances från modellen (Gradient Boosting)\n",
        "feature_importances = gb.feature_importances_\n",
        "features = X_train.columns  # Om du använder Xe_train, byt ut till Xe_train.columns\n",
        "\n",
        "# Sortera importances\n",
        "indices = np.argsort(feature_importances)[::-1]\n",
        "\n",
        "# Rita stapeldiagram\n",
        "plt.figure(figsize=(10,6))\n",
        "plt.title(\"Viktigaste features enligt Gradient Boosting\")\n",
        "plt.bar(range(len(features)), feature_importances[indices], align=\"center\")\n",
        "plt.xticks(range(len(features)), features[indices], rotation=45)\n",
        "plt.tight_layout()\n",
        "plt.show()\n"
      ],
      "metadata": {
        "colab": {
          "base_uri": "https://localhost:8080/",
          "height": 607
        },
        "id": "UxnU8_IRZa9X",
        "outputId": "2253a80c-f113-4af6-f849-3df4ce3dd934"
      },
      "execution_count": 56,
      "outputs": [
        {
          "output_type": "display_data",
          "data": {
            "text/plain": [
              "<Figure size 1000x600 with 1 Axes>"
            ],
            "image/png": "[encoded data removed]"
          },
          "metadata": {}
        }
      ]
    }
  ]
}